{
 "cells": [
  {
   "cell_type": "code",
   "execution_count": 1,
   "metadata": {},
   "outputs": [
    {
     "name": "stdout",
     "output_type": "stream",
     "text": [
      "PythonPython————rrer™e-1.8-py3-none-any.whlsize-318e00d42d5e436cbdeb8ab6cF072685eStoredindirectory:c:\\u:cal\\pip\\cache\\wheels\\ce\\04\\,31073f0397b4721a0271ee8ed7SuccessfullybuiltmtranslatInstallingcollectedpackag:SuccessfullyinstalledmtrarShaioe~~\n"
     ]
    }
   ],
   "source": [
    "import time\n",
    "from PIL import ImageGrab  # screenshot\n",
    "import pyautogui as pg\n",
    "import pytesseract\n",
    "from pytesseract import Output\n",
    "pytesseract.pytesseract.tesseract_cmd = (r\"C:\\Program Files\\Tesseract-OCR\\tesseract.exe\") # needed for Windows as OS\n",
    "\n",
    "# screen =  ImageGrab.grab(bbox=(886,1073,1286,1173))  # screenshot\n",
    "mouse_pos = pg.position()\n",
    "screen = ImageGrab.grab(bbox=(mouse_pos[0],mouse_pos[1],mouse_pos[0]+400,mouse_pos[1]+200))\n",
    "cap = screen.convert('L')   # make grayscale\n",
    "\n",
    "# screen.show()\n",
    "data=pytesseract.image_to_boxes(cap,output_type=Output.DICT)\n",
    "\n",
    "print(''.join(data['char']))"
   ]
  },
  {
   "cell_type": "code",
   "execution_count": 14,
   "metadata": {},
   "outputs": [
    {
     "data": {
      "text/plain": [
       "1008"
      ]
     },
     "execution_count": 14,
     "metadata": {},
     "output_type": "execute_result"
    }
   ],
   "source": [
    "# import pyautogui as pg\n",
    "# a = pg.position()\n",
    "# a[0]"
   ]
  },
  {
   "cell_type": "code",
   "execution_count": null,
   "metadata": {},
   "outputs": [],
   "source": []
  }
 ],
 "metadata": {
  "kernelspec": {
   "display_name": "Python 3",
   "language": "python",
   "name": "python3"
  },
  "language_info": {
   "codemirror_mode": {
    "name": "ipython",
    "version": 3
   },
   "file_extension": ".py",
   "mimetype": "text/x-python",
   "name": "python",
   "nbconvert_exporter": "python",
   "pygments_lexer": "ipython3",
   "version": "3.10.7"
  },
  "orig_nbformat": 4
 },
 "nbformat": 4,
 "nbformat_minor": 2
}
